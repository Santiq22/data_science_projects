{
 "cells": [
  {
   "cell_type": "markdown",
   "id": "f435f420",
   "metadata": {},
   "source": [
    "## Fashion sales project\n",
    "\n",
    "This project aims to gain insights into the fashion market and optimize the selling process by leveraging on the available fashion sales data and using different machine-learning solutions.\n",
    "\n",
    "#### Workflow of the project\n",
    "- Data Collection\n",
    "- Data Checks to perform\n",
    "- Exploratory data analysis\n",
    "- Data Pre-Processing\n",
    "- Model Training\n",
    "- Choose best model"
   ]
  },
  {
   "cell_type": "code",
   "execution_count": 1,
   "id": "01204003",
   "metadata": {},
   "outputs": [],
   "source": [
    "# We define all the packages needed to carry out the project\n",
    "# --- Data visualization and data analysis ---\n",
    "import matplotlib.pyplot as plt\n",
    "#from mlxtend.plotting import plot_decision_regions\n",
    "import seaborn as sns\n",
    "import numpy as np\n",
    "from scipy.stats import uniform\n",
    "import pandas as pd\n",
    "#import prince\n",
    "from sklearn.model_selection import train_test_split\n",
    "from sklearn.metrics import accuracy_score, confusion_matrix\n",
    "from sklearn.metrics import precision_score, recall_score, f1_score\n",
    "from sklearn.compose import ColumnTransformer\n",
    "from sklearn.preprocessing import OneHotEncoder, StandardScaler\n",
    "from sklearn import model_selection\n",
    "from sklearn import preprocessing\n",
    "from sklearn.utils import resample\n",
    "from imblearn.over_sampling import SMOTE\n",
    "\n",
    "# --- Machine learning models ---\n",
    "from sklearn.ensemble import RandomForestClassifier\n",
    "from imblearn.ensemble import BalancedRandomForestClassifier\n",
    "from sklearn.naive_bayes import GaussianNB\n",
    "from sklearn.neighbors import KNeighborsClassifier\n",
    "from sklearn.cluster import KMeans\n",
    "from sklearn.linear_model import LogisticRegression\n",
    "from mlxtend.classifier import StackingCVClassifier\n",
    "from xgboost import XGBClassifier\n",
    "from sklearn.model_selection import RandomizedSearchCV\n",
    "\n",
    "%matplotlib inline\n",
    "\n",
    "# Used to ignore warnings generated from StackingCVClassifier\n",
    "import warnings\n",
    "warnings.simplefilter('ignore')"
   ]
  },
  {
   "cell_type": "code",
   "execution_count": 2,
   "id": "291a8a4a",
   "metadata": {},
   "outputs": [],
   "source": [
    "# Load the dataset\n",
    "df = pd.read_csv('data/mock_fashion_data_uk_us.csv')"
   ]
  },
  {
   "cell_type": "markdown",
   "id": "f0f9b542",
   "metadata": {},
   "source": [
    "#### 4) Data Pre-processing\n",
    "- Separate data in predictors (indipendent variables) and responses or targets (dependent variables)\n",
    "- Apply the corresponding transformation on each variable\n",
    "- Check correlation between predictors\n",
    "- Split data in training and validation dataset"
   ]
  },
  {
   "cell_type": "code",
   "execution_count": 3,
   "id": "c54e2c46",
   "metadata": {},
   "outputs": [],
   "source": [
    "# Predictors\n",
    "X = df.drop(columns=['Product Name', 'Price'], axis=1)\n",
    "\n",
    "# We will use as a response variable the price of the clothes\n",
    "y = df['Price']"
   ]
  },
  {
   "cell_type": "code",
   "execution_count": 4,
   "id": "ee832a56",
   "metadata": {},
   "outputs": [
    {
     "data": {
      "text/html": [
       "<div>\n",
       "<style scoped>\n",
       "    .dataframe tbody tr th:only-of-type {\n",
       "        vertical-align: middle;\n",
       "    }\n",
       "\n",
       "    .dataframe tbody tr th {\n",
       "        vertical-align: top;\n",
       "    }\n",
       "\n",
       "    .dataframe thead th {\n",
       "        text-align: right;\n",
       "    }\n",
       "</style>\n",
       "<table border=\"1\" class=\"dataframe\">\n",
       "  <thead>\n",
       "    <tr style=\"text-align: right;\">\n",
       "      <th></th>\n",
       "      <th>Brand</th>\n",
       "      <th>Category</th>\n",
       "      <th>Description</th>\n",
       "      <th>Rating</th>\n",
       "      <th>Review Count</th>\n",
       "      <th>Style Attributes</th>\n",
       "      <th>Total Sizes</th>\n",
       "      <th>Available Sizes</th>\n",
       "      <th>Color</th>\n",
       "      <th>Purchase History</th>\n",
       "      <th>Age</th>\n",
       "      <th>Fashion Magazines</th>\n",
       "      <th>Fashion Influencers</th>\n",
       "      <th>Season</th>\n",
       "      <th>Time Period Highest Purchase</th>\n",
       "      <th>Customer Reviews</th>\n",
       "      <th>Social Media Comments</th>\n",
       "      <th>feedback</th>\n",
       "    </tr>\n",
       "  </thead>\n",
       "  <tbody>\n",
       "    <tr>\n",
       "      <th>0</th>\n",
       "      <td>Ralph Lauren</td>\n",
       "      <td>Footwear</td>\n",
       "      <td>Bad</td>\n",
       "      <td>1.421706</td>\n",
       "      <td>492</td>\n",
       "      <td>Streetwear</td>\n",
       "      <td>M, L, XL</td>\n",
       "      <td>XL</td>\n",
       "      <td>Green</td>\n",
       "      <td>Medium</td>\n",
       "      <td>24</td>\n",
       "      <td>Vogue</td>\n",
       "      <td>Chiara Ferragni</td>\n",
       "      <td>Fall/Winter</td>\n",
       "      <td>Daytime</td>\n",
       "      <td>Mixed</td>\n",
       "      <td>Mixed</td>\n",
       "      <td>Other</td>\n",
       "    </tr>\n",
       "    <tr>\n",
       "      <th>1</th>\n",
       "      <td>Ted Baker</td>\n",
       "      <td>Tops</td>\n",
       "      <td>Not Good</td>\n",
       "      <td>1.037677</td>\n",
       "      <td>57</td>\n",
       "      <td>Vintage</td>\n",
       "      <td>M, L, XL</td>\n",
       "      <td>XL</td>\n",
       "      <td>Black</td>\n",
       "      <td>Above Average</td>\n",
       "      <td>61</td>\n",
       "      <td>Glamour</td>\n",
       "      <td>Leandra Medine</td>\n",
       "      <td>Winter</td>\n",
       "      <td>Weekend</td>\n",
       "      <td>Negative</td>\n",
       "      <td>Neutral</td>\n",
       "      <td>Other</td>\n",
       "    </tr>\n",
       "    <tr>\n",
       "      <th>2</th>\n",
       "      <td>Jigsaw</td>\n",
       "      <td>Footwear</td>\n",
       "      <td>Very Bad</td>\n",
       "      <td>3.967106</td>\n",
       "      <td>197</td>\n",
       "      <td>Streetwear</td>\n",
       "      <td>S, M, L</td>\n",
       "      <td>M</td>\n",
       "      <td>Blue</td>\n",
       "      <td>Average</td>\n",
       "      <td>27</td>\n",
       "      <td>Marie Claire</td>\n",
       "      <td>Gigi Hadid</td>\n",
       "      <td>Summer</td>\n",
       "      <td>Nighttime</td>\n",
       "      <td>Unknown</td>\n",
       "      <td>Negative</td>\n",
       "      <td>Neutral</td>\n",
       "    </tr>\n",
       "    <tr>\n",
       "      <th>3</th>\n",
       "      <td>Alexander McQueen</td>\n",
       "      <td>Outerwear</td>\n",
       "      <td>Not Good</td>\n",
       "      <td>2.844659</td>\n",
       "      <td>473</td>\n",
       "      <td>Formal</td>\n",
       "      <td>S, M, L</td>\n",
       "      <td>L</td>\n",
       "      <td>Red</td>\n",
       "      <td>Very High</td>\n",
       "      <td>50</td>\n",
       "      <td>Marie Claire</td>\n",
       "      <td>Chiara Ferragni</td>\n",
       "      <td>Fall/Winter</td>\n",
       "      <td>Weekend</td>\n",
       "      <td>Neutral</td>\n",
       "      <td>Other</td>\n",
       "      <td>Other</td>\n",
       "    </tr>\n",
       "    <tr>\n",
       "      <th>4</th>\n",
       "      <td>Tommy Hilfiger</td>\n",
       "      <td>Bottoms</td>\n",
       "      <td>Very Good</td>\n",
       "      <td>1.183242</td>\n",
       "      <td>55</td>\n",
       "      <td>Sporty</td>\n",
       "      <td>M, L, XL</td>\n",
       "      <td>S</td>\n",
       "      <td>Green</td>\n",
       "      <td>Above Average</td>\n",
       "      <td>23</td>\n",
       "      <td>Glamour</td>\n",
       "      <td>Song of Style</td>\n",
       "      <td>Spring</td>\n",
       "      <td>Daytime</td>\n",
       "      <td>Positive</td>\n",
       "      <td>Mixed</td>\n",
       "      <td>Positive</td>\n",
       "    </tr>\n",
       "  </tbody>\n",
       "</table>\n",
       "</div>"
      ],
      "text/plain": [
       "               Brand   Category Description    Rating  Review Count  \\\n",
       "0       Ralph Lauren   Footwear         Bad  1.421706           492   \n",
       "1          Ted Baker       Tops    Not Good  1.037677            57   \n",
       "2             Jigsaw   Footwear    Very Bad  3.967106           197   \n",
       "3  Alexander McQueen  Outerwear    Not Good  2.844659           473   \n",
       "4     Tommy Hilfiger    Bottoms   Very Good  1.183242            55   \n",
       "\n",
       "  Style Attributes Total Sizes Available Sizes  Color Purchase History  Age  \\\n",
       "0       Streetwear    M, L, XL              XL  Green           Medium   24   \n",
       "1          Vintage    M, L, XL              XL  Black    Above Average   61   \n",
       "2       Streetwear     S, M, L               M   Blue          Average   27   \n",
       "3           Formal     S, M, L               L    Red        Very High   50   \n",
       "4           Sporty    M, L, XL               S  Green    Above Average   23   \n",
       "\n",
       "  Fashion Magazines Fashion Influencers       Season  \\\n",
       "0             Vogue     Chiara Ferragni  Fall/Winter   \n",
       "1           Glamour      Leandra Medine       Winter   \n",
       "2      Marie Claire          Gigi Hadid       Summer   \n",
       "3      Marie Claire     Chiara Ferragni  Fall/Winter   \n",
       "4           Glamour       Song of Style       Spring   \n",
       "\n",
       "  Time Period Highest Purchase Customer Reviews Social Media Comments  \\\n",
       "0                      Daytime            Mixed                 Mixed   \n",
       "1                      Weekend         Negative               Neutral   \n",
       "2                    Nighttime          Unknown              Negative   \n",
       "3                      Weekend          Neutral                 Other   \n",
       "4                      Daytime         Positive                 Mixed   \n",
       "\n",
       "   feedback  \n",
       "0     Other  \n",
       "1     Other  \n",
       "2   Neutral  \n",
       "3     Other  \n",
       "4  Positive  "
      ]
     },
     "execution_count": 4,
     "metadata": {},
     "output_type": "execute_result"
    }
   ],
   "source": [
    "# Check if it was done correctly\n",
    "X.head()"
   ]
  },
  {
   "cell_type": "code",
   "execution_count": 5,
   "id": "78f73d2b",
   "metadata": {},
   "outputs": [],
   "source": [
    "# Separete between numerical and categorical features\n",
    "num_features = X.select_dtypes(exclude=\"object\").columns\n",
    "cat_features = X.select_dtypes(include=\"object\").columns\n",
    "\n",
    "# Instantiate transformers\n",
    "numeric_transformer = StandardScaler()\n",
    "oh_transformer = OneHotEncoder()\n",
    "\n",
    "# Create a Column Transformer with 2 types of transformers\n",
    "preprocessor = ColumnTransformer([(\"OneHotEncoder\", oh_transformer, cat_features),\n",
    "                                  (\"StandardScaler\", numeric_transformer, num_features),])"
   ]
  },
  {
   "cell_type": "code",
   "execution_count": 6,
   "id": "10ad71bf",
   "metadata": {},
   "outputs": [],
   "source": [
    "# Apply transformations on predictors\n",
    "X = preprocessor.fit_transform(X)"
   ]
  },
  {
   "cell_type": "code",
   "execution_count": null,
   "id": "4c6600b7",
   "metadata": {},
   "outputs": [],
   "source": [
    "# Convert transformed predictors into pandas DataFrame\n",
    "testing_X = pd.DataFrame(X.toarray())"
   ]
  },
  {
   "cell_type": "code",
   "execution_count": 17,
   "id": "6616539e",
   "metadata": {},
   "outputs": [],
   "source": [
    "# Compute the correlation matrix\n",
    "correlation_matrix = testing_X.corr()"
   ]
  },
  {
   "cell_type": "code",
   "execution_count": 30,
   "id": "c8ce8dd2",
   "metadata": {},
   "outputs": [],
   "source": [
    "# List of correlation values\n",
    "correlation_values = []\n",
    "\n",
    "# Getting the correlation values from the lower triangle of the correlation matrix\n",
    "for i in range(correlation_matrix.shape[0]):\n",
    "    for j in range(i+1):\n",
    "        correlation_values.append(correlation_matrix.to_numpy()[i,j])\n",
    "        \n",
    "# Convertion to numpy array\n",
    "correlation_values = np.array(correlation_values)"
   ]
  },
  {
   "cell_type": "code",
   "execution_count": 35,
   "id": "f93bad31",
   "metadata": {},
   "outputs": [
    {
     "data": {
      "text/plain": [
       "<AxesSubplot: ylabel='Count'>"
      ]
     },
     "execution_count": 35,
     "metadata": {},
     "output_type": "execute_result"
    },
    {
     "data": {
      "image/png": "[encoded data removed]",
      "text/plain": [
       "<Figure size 640x480 with 1 Axes>"
      ]
     },
     "metadata": {},
     "output_type": "display_data"
    }
   ],
   "source": [
    "# Histogram to see the distribution of correlation values given the huge number of them\n",
    "sns.histplot(correlation_values, bins=20)"
   ]
  },
  {
   "cell_type": "code",
   "execution_count": 7,
   "id": "6bc860e3",
   "metadata": {},
   "outputs": [
    {
     "data": {
      "text/plain": [
       "((800000, 107), (200000, 107))"
      ]
     },
     "execution_count": 7,
     "metadata": {},
     "output_type": "execute_result"
    }
   ],
   "source": [
    "# Separate dataset into training and validation data\n",
    "X_train, X_validation, y_train, y_validation = train_test_split(X, y, test_size=0.2, random_state=42)\n",
    "X_train.shape, X_validation.shape"
   ]
  },
  {
   "cell_type": "markdown",
   "id": "4ca35758",
   "metadata": {},
   "source": [
    "#### 5) Model Training\n",
    "- Choose the models to be used"
   ]
  },
  {
   "cell_type": "code",
   "execution_count": null,
   "id": "ebf4cac9",
   "metadata": {},
   "outputs": [],
   "source": [
    "# Dictionary of models\n",
    "models = {\n",
    "    \"Linear Regression\": LinearRegression(),\n",
    "    \"Lasso\": Lasso(),\n",
    "    \"Ridge\": Ridge(),\n",
    "    \"K-Neighbors Regressor\": KNeighborsRegressor(),\n",
    "    \"Decision Tree\": DecisionTreeRegressor(),\n",
    "    \"Random Forest Regressor\": RandomForestRegressor(),\n",
    "    \"XGBRegressor\": XGBRegressor(),\n",
    "    \"CatBoosting Regressor\": CatBoostRegressor(verbose=False),\n",
    "    \"AdaBoost Regressor\": AdaBoostRegressor()\n",
    "}"
   ]
  },
  {
   "cell_type": "code",
   "execution_count": 36,
   "id": "ab86d15c",
   "metadata": {},
   "outputs": [
    {
     "data": {
      "text/plain": [
       "scipy.sparse._csr.csr_matrix"
      ]
     },
     "execution_count": 36,
     "metadata": {},
     "output_type": "execute_result"
    }
   ],
   "source": [
    "model_list = []\n",
    "r2_list =[]\n",
    "\n",
    "for i in range(len(list(models))):\n",
    "    model = list(models.values())[i]\n",
    "    model.fit(X_train, y_train) # Train model\n",
    "\n",
    "    # Make predictions\n",
    "    y_train_pred = model.predict(X_train)\n",
    "    y_test_pred = model.predict(X_test)\n",
    "    \n",
    "    # Evaluate Train and Test dataset\n",
    "    model_train_mae , model_train_rmse, model_train_r2 = evaluate_model(y_train, y_train_pred)\n",
    "\n",
    "    model_test_mae , model_test_rmse, model_test_r2 = evaluate_model(y_test, y_test_pred)\n",
    "\n",
    "    \n",
    "    print(list(models.keys())[i])\n",
    "    model_list.append(list(models.keys())[i])\n",
    "    \n",
    "    print('Model performance for Training set')\n",
    "    print(\"- Root Mean Squared Error: {:.4f}\".format(model_train_rmse))\n",
    "    print(\"- Mean Absolute Error: {:.4f}\".format(model_train_mae))\n",
    "    print(\"- R2 Score: {:.4f}\".format(model_train_r2))\n",
    "\n",
    "    print('----------------------------------')\n",
    "    \n",
    "    print('Model performance for Test set')\n",
    "    print(\"- Root Mean Squared Error: {:.4f}\".format(model_test_rmse))\n",
    "    print(\"- Mean Absolute Error: {:.4f}\".format(model_test_mae))\n",
    "    print(\"- R2 Score: {:.4f}\".format(model_test_r2))\n",
    "    r2_list.append(model_test_r2)\n",
    "    \n",
    "    print('='*35)\n",
    "    print('\\n')"
   ]
  },
  {
   "cell_type": "code",
   "execution_count": null,
   "id": "70cc7d0d",
   "metadata": {},
   "outputs": [],
   "source": []
  },
  {
   "cell_type": "code",
   "execution_count": null,
   "id": "3e0d9984",
   "metadata": {},
   "outputs": [],
   "source": []
  },
  {
   "cell_type": "code",
   "execution_count": null,
   "id": "69124299",
   "metadata": {},
   "outputs": [],
   "source": []
  },
  {
   "cell_type": "code",
   "execution_count": null,
   "id": "543621cb",
   "metadata": {},
   "outputs": [],
   "source": []
  },
  {
   "cell_type": "code",
   "execution_count": null,
   "id": "2cf13d7e",
   "metadata": {},
   "outputs": [],
   "source": [
    "def evaluate_model(true, predicted):\n",
    "    mae = mean_absolute_error(true, predicted)\n",
    "    mse = mean_squared_error(true, predicted)\n",
    "    rmse = np.sqrt(mean_squared_error(true, predicted))\n",
    "    r2_square = r2_score(true, predicted)\n",
    "    return mae, rmse, r2_square"
   ]
  },
  {
   "cell_type": "code",
   "execution_count": null,
   "id": "0631c237",
   "metadata": {},
   "outputs": [],
   "source": []
  },
  {
   "cell_type": "code",
   "execution_count": null,
   "id": "0c9ea389",
   "metadata": {},
   "outputs": [],
   "source": []
  },
  {
   "cell_type": "code",
   "execution_count": null,
   "id": "a3a73741",
   "metadata": {},
   "outputs": [],
   "source": []
  },
  {
   "cell_type": "code",
   "execution_count": null,
   "id": "0b5827a3",
   "metadata": {},
   "outputs": [],
   "source": []
  },
  {
   "cell_type": "code",
   "execution_count": null,
   "id": "187576c9",
   "metadata": {},
   "outputs": [],
   "source": []
  },
  {
   "cell_type": "code",
   "execution_count": null,
   "id": "32280c59",
   "metadata": {},
   "outputs": [],
   "source": []
  },
  {
   "cell_type": "code",
   "execution_count": null,
   "id": "56486a33",
   "metadata": {},
   "outputs": [],
   "source": []
  },
  {
   "cell_type": "code",
   "execution_count": null,
   "id": "f2d3e67c",
   "metadata": {},
   "outputs": [],
   "source": []
  },
  {
   "cell_type": "code",
   "execution_count": null,
   "id": "f105e2fe",
   "metadata": {},
   "outputs": [],
   "source": []
  },
  {
   "cell_type": "code",
   "execution_count": null,
   "id": "05bf0bde",
   "metadata": {},
   "outputs": [],
   "source": []
  },
  {
   "cell_type": "code",
   "execution_count": null,
   "id": "38eafec2",
   "metadata": {},
   "outputs": [],
   "source": []
  }
 ],
 "metadata": {
  "kernelspec": {
   "display_name": "Python 3 (ipykernel)",
   "language": "python",
   "name": "python3"
  },
  "language_info": {
   "codemirror_mode": {
    "name": "ipython",
    "version": 3
   },
   "file_extension": ".py",
   "mimetype": "text/x-python",
   "name": "python",
   "nbconvert_exporter": "python",
   "pygments_lexer": "ipython3",
   "version": "3.10.9"
  }
 },
 "nbformat": 4,
 "nbformat_minor": 5
}
